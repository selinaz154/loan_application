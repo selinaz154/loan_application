{
 "cells": [
  {
   "cell_type": "code",
   "execution_count": 2,
   "id": "0cd60ecb-a203-41dc-b555-7268d6bd2114",
   "metadata": {},
   "outputs": [
    {
     "name": "stdout",
     "output_type": "stream",
     "text": [
      "The history saving thread hit an unexpected error (OperationalError('attempt to write a readonly database')).History will not be written to the database.\n"
     ]
    }
   ],
   "source": [
    "def histogram(points, bins):\n",
    "    densities = []\n",
    "    total_points = len(points)\n",
    "    point_idx = 0\n",
    "    \n",
    "    for (a, b) in bins:\n",
    "        count = 0\n",
    "        # i looped through bins\n",
    "        while point_idx < total_points and points[point_idx] < b:\n",
    "            if points[point_idx] >= a:\n",
    "                count += 1\n",
    "            point_idx += 1\n",
    "\n",
    "        #\n",
    "        bin_width = b - a\n",
    "        density = count / (total_points * bin_width)\n",
    "        densities.append(density)\n",
    "        \n",
    "    # for point in points:\n",
    "    #     while(point\n",
    "    \n",
    "    return densities"
   ]
  },
  {
   "cell_type": "code",
   "execution_count": 3,
   "id": "080b7ba8-c75f-4837-87cd-897a08e1a9a5",
   "metadata": {},
   "outputs": [],
   "source": [
    "points = [1, 2, 3, 6, 7, 9, 10, 11]"
   ]
  },
  {
   "cell_type": "code",
   "execution_count": 4,
   "id": "5e287b27-77d6-423a-b176-c426d16f7123",
   "metadata": {},
   "outputs": [],
   "source": [
    "bins = [(0, 4), (4, 8), (8, 12)]"
   ]
  },
  {
   "cell_type": "code",
   "execution_count": 5,
   "id": "1d956268-2bf0-41f3-a147-32cf43c5499a",
   "metadata": {},
   "outputs": [
    {
     "data": {
      "text/plain": [
       "[0.09375, 0.0625, 0.09375]"
      ]
     },
     "execution_count": 5,
     "metadata": {},
     "output_type": "execute_result"
    }
   ],
   "source": [
    "histogram(points, bins)"
   ]
  },
  {
   "cell_type": "code",
   "execution_count": null,
   "id": "32d2d86a-dacd-4ed2-8b56-e8b95f546c3b",
   "metadata": {},
   "outputs": [],
   "source": []
  }
 ],
 "metadata": {
  "kernelspec": {
   "display_name": "Python 3 (ipykernel)",
   "language": "python",
   "name": "python3"
  },
  "language_info": {
   "codemirror_mode": {
    "name": "ipython",
    "version": 3
   },
   "file_extension": ".py",
   "mimetype": "text/x-python",
   "name": "python",
   "nbconvert_exporter": "python",
   "pygments_lexer": "ipython3",
   "version": "3.12.6"
  }
 },
 "nbformat": 4,
 "nbformat_minor": 5
}
