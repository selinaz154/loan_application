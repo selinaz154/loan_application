{
 "cells": [
  {
   "cell_type": "code",
   "execution_count": 1,
   "id": "b220a0ab-411c-4aa9-82f6-e6a82121490a",
   "metadata": {},
   "outputs": [],
   "source": [
    "def knn_distance(arr, q, k):\n",
    "    \n",
    "    arr.sort(key=lambda x: abs(x - q))\n",
    "    \n",
    "    closest_point = arr[k - 1]\n",
    "    distance = abs(q - closest_point)\n",
    "    return distance, closest_point"
   ]
  },
  {
   "cell_type": "code",
   "execution_count": 2,
   "id": "03279881-36eb-4efd-868d-4bced3f1072c",
   "metadata": {},
   "outputs": [
    {
     "data": {
      "text/plain": [
       "(4, 15)"
      ]
     },
     "execution_count": 2,
     "metadata": {},
     "output_type": "execute_result"
    }
   ],
   "source": [
    "knn_distance([3, 10, 52, 15], 19, 1)"
   ]
  },
  {
   "cell_type": "code",
   "execution_count": 4,
   "id": "b962731a-61cf-4484-8a93-af47eda01065",
   "metadata": {},
   "outputs": [
    {
     "data": {
      "text/plain": [
       "(9, 10)"
      ]
     },
     "execution_count": 4,
     "metadata": {},
     "output_type": "execute_result"
    }
   ],
   "source": [
    "knn_distance([3, 10, 52, 15,], 19, 2)"
   ]
  },
  {
   "cell_type": "code",
   "execution_count": null,
   "id": "6adffcaa-7c55-48ac-8d95-8605338e75b2",
   "metadata": {},
   "outputs": [],
   "source": []
  }
 ],
 "metadata": {
  "kernelspec": {
   "display_name": "Python 3 (ipykernel)",
   "language": "python",
   "name": "python3"
  },
  "language_info": {
   "codemirror_mode": {
    "name": "ipython",
    "version": 3
   },
   "file_extension": ".py",
   "mimetype": "text/x-python",
   "name": "python",
   "nbconvert_exporter": "python",
   "pygments_lexer": "ipython3",
   "version": "3.12.6"
  }
 },
 "nbformat": 4,
 "nbformat_minor": 5
}
